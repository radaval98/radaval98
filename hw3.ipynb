{
 "cells": [
  {
   "cell_type": "code",
   "execution_count": 2,
   "metadata": {},
   "outputs": [
    {
     "name": "stdout",
     "output_type": "stream",
     "text": [
      "Введите габарит190\n",
      "Коробка №1\n",
      "Конец программы\n"
     ]
    }
   ],
   "source": [
    "width = 45\n",
    "length = 190\n",
    "height = 15\n",
    "\n",
    "if width or length or height < 15:\n",
    "    user_input = int(input('Введите габарит'))\n",
    "    print('Коробка №1')\n",
    "elif user_input < 50:\n",
    "    print('Коробка №2')\n",
    "elif user_input > 2000:\n",
    "    print('Ищите упаковку для лыж')\n",
    "else:\n",
    "    print('Стандартная коробка №3')\n",
    "print('Конец программы')\n",
    "\n"
   ]
  },
  {
   "cell_type": "code",
   "execution_count": null,
   "metadata": {},
   "outputs": [],
   "source": []
  }
 ],
 "metadata": {
  "kernelspec": {
   "display_name": "Python 3",
   "language": "python",
   "name": "python3"
  },
  "language_info": {
   "codemirror_mode": {
    "name": "ipython",
    "version": 3
   },
   "file_extension": ".py",
   "mimetype": "text/x-python",
   "name": "python",
   "nbconvert_exporter": "python",
   "pygments_lexer": "ipython3",
   "version": "3.8.3"
  }
 },
 "nbformat": 4,
 "nbformat_minor": 4
}
