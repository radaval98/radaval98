{
 "cells": [
  {
   "cell_type": "code",
   "execution_count": 5,
   "metadata": {},
   "outputs": [
    {
     "name": "stdout",
     "output_type": "stream",
     "text": [
      "На флот\n",
      "Конец программы\n"
     ]
    }
   ],
   "source": [
    "age = 19\n",
    "height = 180\n",
    "if height < 179 and age >= 18:\n",
    "    print('В танкисты')\n",
    "elif height < 185 and age >= 18:\n",
    "    print('На флот')\n",
    "elif height < 200 and age >= 18:\n",
    "    print('В десантники')\n",
    "else:\n",
    "    print('В другие войска')\n",
    "print('Конец программы')"
   ]
  },
  {
   "cell_type": "code",
   "execution_count": 6,
   "metadata": {},
   "outputs": [
    {
     "name": "stdout",
     "output_type": "stream",
     "text": [
      "Введите рост186\n",
      "В десантники\n",
      "Конец программы\n"
     ]
    }
   ],
   "source": [
    "if age >= 18:\n",
    "    user_input = int(input('Введите рост'))\n",
    "    if user_input < 170:\n",
    "        print('В танкисты')\n",
    "    elif user_input < 185:\n",
    "        print('На флот')\n",
    "    elif user_input < 200:\n",
    "        print('В десантники')\n",
    "    else:\n",
    "        print('В другие войска')\n",
    "else:\n",
    "    print('Непризывной возраст')\n",
    "print('Конец программы')\n",
    "    "
   ]
  },
  {
   "cell_type": "code",
   "execution_count": null,
   "metadata": {},
   "outputs": [],
   "source": [
    "account_ammount = 1000\n",
    "loan_amount = 1500\n",
    "days_to_pay = 6\n",
    "is_holiday = False\n",
    "\n",
    "should_notify = account_ammount < loan_ammount and ((days_to_pay < 10 and not is_holiday)) or should_notify"
   ]
  },
  {
   "cell_type": "code",
   "execution_count": null,
   "metadata": {},
   "outputs": [],
   "source": [
    "account_amount < loan_amount and ((days_to_pay < 10 and not is_holiday) or (days_to_pay == 15))"
   ]
  }
 ],
 "metadata": {
  "kernelspec": {
   "display_name": "Python 3",
   "language": "python",
   "name": "python3"
  },
  "language_info": {
   "codemirror_mode": {
    "name": "ipython",
    "version": 3
   },
   "file_extension": ".py",
   "mimetype": "text/x-python",
   "name": "python",
   "nbconvert_exporter": "python",
   "pygments_lexer": "ipython3",
   "version": "3.8.3"
  }
 },
 "nbformat": 4,
 "nbformat_minor": 4
}
