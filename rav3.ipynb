{
 "cells": [
  {
   "cell_type": "code",
   "execution_count": 1,
   "metadata": {},
   "outputs": [],
   "source": [
    "width = 45\n",
    "length = 190\n",
    "height = 15"
   ]
  },
  {
   "cell_type": "code",
   "execution_count": 2,
   "metadata": {},
   "outputs": [
    {
     "name": "stdout",
     "output_type": "stream",
     "text": [
      "Коробка №2\n",
      "Конец программы\n"
     ]
    }
   ],
   "source": [
    "if width < 15:\n",
    "    width = int(input('Введите габарит'))\n",
    "    print('Коробка №1')\n",
    "elif width < 50:\n",
    "    print('Коробка №2')\n",
    "elif width > 2000:\n",
    "    print('Ищите упаковку для лыж')\n",
    "else:\n",
    "    print('Стандартная коробка №3')\n",
    "print('Конец программы')"
   ]
  },
  {
   "cell_type": "code",
   "execution_count": 3,
   "metadata": {},
   "outputs": [
    {
     "name": "stdout",
     "output_type": "stream",
     "text": [
      "Стандартная коробка №3\n",
      "Конец программы\n"
     ]
    }
   ],
   "source": [
    "if length < 15:\n",
    "    length = int(input('Введите габарит'))\n",
    "    print('Коробка №1')\n",
    "elif length < 50:\n",
    "    print('Коробка №2')\n",
    "elif length > 2000:\n",
    "    print('Ищите упаковку для лыж')\n",
    "else:\n",
    "    print('Стандартная коробка №3')\n",
    "print('Конец программы')"
   ]
  },
  {
   "cell_type": "code",
   "execution_count": 4,
   "metadata": {},
   "outputs": [
    {
     "name": "stdout",
     "output_type": "stream",
     "text": [
      "Коробка №2\n",
      "Конец программы\n"
     ]
    }
   ],
   "source": [
    "if height < 15:\n",
    "    height = int(input('Введите габарит'))\n",
    "    print('Коробка №1')\n",
    "elif height < 50:\n",
    "    print('Коробка №2')\n",
    "elif height > 2000:\n",
    "    print('Ищите упаковку для лыж')\n",
    "else:\n",
    "    print('Стандартная коробка №3')\n",
    "print('Конец программы')"
   ]
  }
 ],
 "metadata": {
  "kernelspec": {
   "display_name": "Python 3",
   "language": "python",
   "name": "python3"
  },
  "language_info": {
   "codemirror_mode": {
    "name": "ipython",
    "version": 3
   },
   "file_extension": ".py",
   "mimetype": "text/x-python",
   "name": "python",
   "nbconvert_exporter": "python",
   "pygments_lexer": "ipython3",
   "version": "3.8.3"
  }
 },
 "nbformat": 4,
 "nbformat_minor": 4
}
